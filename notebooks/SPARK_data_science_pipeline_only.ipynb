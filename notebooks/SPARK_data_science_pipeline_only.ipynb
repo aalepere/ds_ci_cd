{
 "cells": [
  {
   "cell_type": "markdown",
   "metadata": {},
   "source": [
    "# PIPELINE"
   ]
  },
  {
   "cell_type": "markdown",
   "metadata": {},
   "source": [
    "## SPARK CONTEXT"
   ]
  },
  {
   "cell_type": "code",
   "execution_count": 1,
   "metadata": {},
   "outputs": [],
   "source": [
    "from pyspark import SparkContext\n",
    "from pyspark.sql import SQLContext\n",
    "from pyspark.sql.functions import avg\n",
    "\n",
    "sc = SparkContext(\"local\", \"Spark Pipeline\")\n",
    "sqlContext = SQLContext(sc)"
   ]
  },
  {
   "cell_type": "markdown",
   "metadata": {},
   "source": [
    "## IMPORT TOOLS"
   ]
  },
  {
   "cell_type": "code",
   "execution_count": 2,
   "metadata": {},
   "outputs": [],
   "source": [
    "from Tools_spark.DataInit import DataInit\n",
    "from Tools_spark.DataTransformation import DataTransformation\n",
    "from Tools_spark.Model import Model"
   ]
  },
  {
   "cell_type": "markdown",
   "metadata": {},
   "source": [
    "## DATA INITIALIZATION"
   ]
  },
  {
   "cell_type": "code",
   "execution_count": 3,
   "metadata": {},
   "outputs": [],
   "source": [
    "init = DataInit(sqlContext,\"data/titanic.csv\",\"\\t\",\"Survived\",0.7)\n",
    "init.run()"
   ]
  },
  {
   "cell_type": "code",
   "execution_count": 4,
   "metadata": {},
   "outputs": [
    {
     "name": "stdout",
     "output_type": "stream",
     "text": [
      "+-----------+--------+------+--------------------+------+----+-----+-----+----------------+-------+-----------+--------+-----------+\n",
      "|PassengerId|Survived|Pclass|                Name|   Sex| Age|SibSp|Parch|          Ticket|   Fare|      Cabin|Embarked|Sex_indexed|\n",
      "+-----------+--------+------+--------------------+------+----+-----+-----+----------------+-------+-----------+--------+-----------+\n",
      "|          1|       0|     3|Braund, Mr. Owen ...|  male|22.0|    1|    0|       A/5 21171|   7.25|       null|       S|        0.0|\n",
      "|          2|       1|     1|Cumings, Mrs. Joh...|female|38.0|    1|    0|        PC 17599|71.2833|        C85|       C|        1.0|\n",
      "|          3|       1|     3|Heikkinen, Miss. ...|female|26.0|    0|    0|STON/O2. 3101282|  7.925|       null|       S|        1.0|\n",
      "|          4|       1|     1|Futrelle, Mrs. Ja...|female|35.0|    1|    0|          113803|   53.1|       C123|       S|        1.0|\n",
      "|          7|       0|     1|McCarthy, Mr. Tim...|  male|54.0|    0|    0|           17463|51.8625|        E46|       S|        0.0|\n",
      "|         10|       1|     2|Nasser, Mrs. Nich...|female|14.0|    1|    0|          237736|30.0708|       null|       C|        1.0|\n",
      "|         11|       1|     3|Sandstrom, Miss. ...|female| 4.0|    1|    1|         PP 9549|   16.7|         G6|       S|        1.0|\n",
      "|         12|       1|     1|Bonnell, Miss. El...|female|58.0|    0|    0|          113783|  26.55|       C103|       S|        1.0|\n",
      "|         13|       0|     3|Saundercock, Mr. ...|  male|20.0|    0|    0|       A/5. 2151|   8.05|       null|       S|        0.0|\n",
      "|         14|       0|     3|Andersson, Mr. An...|  male|39.0|    1|    5|          347082| 31.275|       null|       S|        0.0|\n",
      "|         15|       0|     3|Vestrom, Miss. Hu...|female|14.0|    0|    0|          350406| 7.8542|       null|       S|        1.0|\n",
      "|         19|       0|     3|Vander Planke, Mr...|female|31.0|    1|    0|          345763|   18.0|       null|       S|        1.0|\n",
      "|         20|       1|     3|Masselmani, Mrs. ...|female|null|    0|    0|            2649|  7.225|       null|       C|        1.0|\n",
      "|         22|       1|     2|Beesley, Mr. Lawr...|  male|34.0|    0|    0|          248698|   13.0|        D56|       S|        0.0|\n",
      "|         23|       1|     3|McGowan, Miss. An...|female|15.0|    0|    0|          330923| 8.0292|       null|       Q|        1.0|\n",
      "|         25|       0|     3|Palsson, Miss. To...|female| 8.0|    3|    1|          349909| 21.075|       null|       S|        1.0|\n",
      "|         26|       1|     3|Asplund, Mrs. Car...|female|38.0|    1|    5|          347077|31.3875|       null|       S|        1.0|\n",
      "|         27|       0|     3|Emir, Mr. Farred ...|  male|null|    0|    0|            2631|  7.225|       null|       C|        0.0|\n",
      "|         28|       0|     1|Fortune, Mr. Char...|  male|19.0|    3|    2|           19950|  263.0|C23 C25 C27|       S|        0.0|\n",
      "|         29|       1|     3|O'Dwyer, Miss. El...|female|null|    0|    0|          330959| 7.8792|       null|       Q|        1.0|\n",
      "+-----------+--------+------+--------------------+------+----+-----+-----+----------------+-------+-----------+--------+-----------+\n",
      "only showing top 20 rows\n",
      "\n"
     ]
    }
   ],
   "source": [
    "init.train.show()"
   ]
  },
  {
   "cell_type": "markdown",
   "metadata": {},
   "source": [
    "## DATA TRANSFORMATION"
   ]
  },
  {
   "cell_type": "code",
   "execution_count": 5,
   "metadata": {},
   "outputs": [],
   "source": [
    "trans = DataTransformation(init)\n",
    "trans.run()"
   ]
  },
  {
   "cell_type": "code",
   "execution_count": 6,
   "metadata": {},
   "outputs": [
    {
     "name": "stdout",
     "output_type": "stream",
     "text": [
      "+----+-----------+-------+--------+--------------------+----------------+\n",
      "| Age|Sex_indexed|   Fare|Survived|Age_replace_missings|Fare_discretized|\n",
      "+----+-----------+-------+--------+--------------------+----------------+\n",
      "|22.0|        0.0|   7.25|       0|                22.0|             1.0|\n",
      "|38.0|        1.0|71.2833|       1|                38.0|             3.0|\n",
      "|26.0|        1.0|  7.925|       1|  27.016024096385543|             1.0|\n",
      "|35.0|        1.0|   53.1|       1|                35.0|             3.0|\n",
      "|54.0|        0.0|51.8625|       0|                54.0|             3.0|\n",
      "|14.0|        1.0|30.0708|       1|                14.0|             3.0|\n",
      "| 4.0|        1.0|   16.7|       1|                 4.0|             2.0|\n",
      "|58.0|        1.0|  26.55|       1|                58.0|             3.0|\n",
      "|20.0|        0.0|   8.05|       0|                20.0|             1.0|\n",
      "|39.0|        0.0| 31.275|       0|                39.0|             3.0|\n",
      "|14.0|        1.0| 7.8542|       0|                14.0|             1.0|\n",
      "|31.0|        1.0|   18.0|       0|                31.0|             2.0|\n",
      "|null|        1.0|  7.225|       1|  27.016024096385543|             1.0|\n",
      "|34.0|        0.0|   13.0|       1|                34.0|             2.0|\n",
      "|15.0|        1.0| 8.0292|       1|                15.0|             1.0|\n",
      "| 8.0|        1.0| 21.075|       0|                 8.0|             2.0|\n",
      "|38.0|        1.0|31.3875|       1|                38.0|             3.0|\n",
      "|null|        0.0|  7.225|       0|  27.016024096385543|             1.0|\n",
      "|19.0|        0.0|  263.0|       0|                19.0|             4.0|\n",
      "|null|        1.0| 7.8792|       1|  27.016024096385543|             1.0|\n",
      "+----+-----------+-------+--------+--------------------+----------------+\n",
      "only showing top 20 rows\n",
      "\n"
     ]
    }
   ],
   "source": [
    "trans.train_data.show()"
   ]
  },
  {
   "cell_type": "markdown",
   "metadata": {},
   "source": [
    "## MODEL"
   ]
  },
  {
   "cell_type": "code",
   "execution_count": 7,
   "metadata": {},
   "outputs": [
    {
     "name": "stdout",
     "output_type": "stream",
     "text": [
      "Gini: 0.5711631363805281\n"
     ]
    }
   ],
   "source": [
    "model = Model(trans)\n",
    "model.run()"
   ]
  }
 ],
 "metadata": {
  "kernelspec": {
   "display_name": "Python 3",
   "language": "python",
   "name": "python3"
  },
  "language_info": {
   "codemirror_mode": {
    "name": "ipython",
    "version": 3
   },
   "file_extension": ".py",
   "mimetype": "text/x-python",
   "name": "python",
   "nbconvert_exporter": "python",
   "pygments_lexer": "ipython3",
   "version": "3.7.3"
  }
 },
 "nbformat": 4,
 "nbformat_minor": 2
}
