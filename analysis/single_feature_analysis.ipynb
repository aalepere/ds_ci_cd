{
 "cells": [
  {
   "cell_type": "markdown",
   "metadata": {},
   "source": [
    "# Single feature analysis"
   ]
  },
  {
   "cell_type": "markdown",
   "metadata": {},
   "source": [
    "## Libraries import"
   ]
  },
  {
   "cell_type": "code",
   "execution_count": 1,
   "metadata": {},
   "outputs": [],
   "source": [
    "import pandas as pd\n",
    "import matplotlib.pyplot as plt\n",
    "from sklearn.model_selection import train_test_split\n",
    "from scipy.stats.mstats import winsorize\n",
    "import json"
   ]
  },
  {
   "cell_type": "markdown",
   "metadata": {},
   "source": [
    "## Load data"
   ]
  },
  {
   "cell_type": "code",
   "execution_count": 2,
   "metadata": {},
   "outputs": [],
   "source": [
    "df = pd.read_csv(\"../data/titanic.csv\", sep =\"\\t\")\n",
    "y = df['Survived']\n",
    "X = df.drop(columns=['Survived'])"
   ]
  },
  {
   "cell_type": "code",
   "execution_count": 3,
   "metadata": {},
   "outputs": [],
   "source": [
    "XTrain, XTest, yTrain, yTest = train_test_split(X, y, test_size = 0.7, random_state = 42)"
   ]
  },
  {
   "cell_type": "code",
   "execution_count": 4,
   "metadata": {},
   "outputs": [
    {
     "name": "stderr",
     "output_type": "stream",
     "text": [
      "/usr/local/lib/python3.7/site-packages/ipykernel_launcher.py:2: SettingWithCopyWarning: \n",
      "A value is trying to be set on a copy of a slice from a DataFrame.\n",
      "Try using .loc[row_indexer,col_indexer] = value instead\n",
      "\n",
      "See the caveats in the documentation: http://pandas.pydata.org/pandas-docs/stable/indexing.html#indexing-view-versus-copy\n",
      "  \n"
     ]
    }
   ],
   "source": [
    "analysis_df = XTrain\n",
    "analysis_df['Survived'] = yTrain"
   ]
  },
  {
   "cell_type": "code",
   "execution_count": 5,
   "metadata": {},
   "outputs": [
    {
     "data": {
      "text/html": [
       "<div>\n",
       "<style scoped>\n",
       "    .dataframe tbody tr th:only-of-type {\n",
       "        vertical-align: middle;\n",
       "    }\n",
       "\n",
       "    .dataframe tbody tr th {\n",
       "        vertical-align: top;\n",
       "    }\n",
       "\n",
       "    .dataframe thead th {\n",
       "        text-align: right;\n",
       "    }\n",
       "</style>\n",
       "<table border=\"1\" class=\"dataframe\">\n",
       "  <thead>\n",
       "    <tr style=\"text-align: right;\">\n",
       "      <th></th>\n",
       "      <th>PassengerId</th>\n",
       "      <th>Pclass</th>\n",
       "      <th>Name</th>\n",
       "      <th>Sex</th>\n",
       "      <th>Age</th>\n",
       "      <th>SibSp</th>\n",
       "      <th>Parch</th>\n",
       "      <th>Ticket</th>\n",
       "      <th>Fare</th>\n",
       "      <th>Cabin</th>\n",
       "      <th>Embarked</th>\n",
       "      <th>Survived</th>\n",
       "    </tr>\n",
       "  </thead>\n",
       "  <tbody>\n",
       "    <tr>\n",
       "      <th>89</th>\n",
       "      <td>90</td>\n",
       "      <td>3</td>\n",
       "      <td>Celotti, Mr. Francesco</td>\n",
       "      <td>male</td>\n",
       "      <td>24.0</td>\n",
       "      <td>0</td>\n",
       "      <td>0</td>\n",
       "      <td>343275</td>\n",
       "      <td>8.0500</td>\n",
       "      <td>NaN</td>\n",
       "      <td>S</td>\n",
       "      <td>0</td>\n",
       "    </tr>\n",
       "    <tr>\n",
       "      <th>8</th>\n",
       "      <td>9</td>\n",
       "      <td>3</td>\n",
       "      <td>Johnson, Mrs. Oscar W (Elisabeth Vilhelmina Berg)</td>\n",
       "      <td>female</td>\n",
       "      <td>27.0</td>\n",
       "      <td>0</td>\n",
       "      <td>2</td>\n",
       "      <td>347742</td>\n",
       "      <td>11.1333</td>\n",
       "      <td>NaN</td>\n",
       "      <td>S</td>\n",
       "      <td>1</td>\n",
       "    </tr>\n",
       "    <tr>\n",
       "      <th>13</th>\n",
       "      <td>14</td>\n",
       "      <td>3</td>\n",
       "      <td>Andersson, Mr. Anders Johan</td>\n",
       "      <td>male</td>\n",
       "      <td>39.0</td>\n",
       "      <td>1</td>\n",
       "      <td>5</td>\n",
       "      <td>347082</td>\n",
       "      <td>31.2750</td>\n",
       "      <td>NaN</td>\n",
       "      <td>S</td>\n",
       "      <td>0</td>\n",
       "    </tr>\n",
       "    <tr>\n",
       "      <th>59</th>\n",
       "      <td>60</td>\n",
       "      <td>3</td>\n",
       "      <td>Goodwin, Master. William Frederick</td>\n",
       "      <td>male</td>\n",
       "      <td>11.0</td>\n",
       "      <td>5</td>\n",
       "      <td>2</td>\n",
       "      <td>CA 2144</td>\n",
       "      <td>46.9000</td>\n",
       "      <td>NaN</td>\n",
       "      <td>S</td>\n",
       "      <td>0</td>\n",
       "    </tr>\n",
       "    <tr>\n",
       "      <th>133</th>\n",
       "      <td>134</td>\n",
       "      <td>2</td>\n",
       "      <td>Weisz, Mrs. Leopold (Mathilde Francoise Pede)</td>\n",
       "      <td>female</td>\n",
       "      <td>29.0</td>\n",
       "      <td>1</td>\n",
       "      <td>0</td>\n",
       "      <td>228414</td>\n",
       "      <td>26.0000</td>\n",
       "      <td>NaN</td>\n",
       "      <td>S</td>\n",
       "      <td>1</td>\n",
       "    </tr>\n",
       "  </tbody>\n",
       "</table>\n",
       "</div>"
      ],
      "text/plain": [
       "     PassengerId  Pclass                                               Name  \\\n",
       "89            90       3                             Celotti, Mr. Francesco   \n",
       "8              9       3  Johnson, Mrs. Oscar W (Elisabeth Vilhelmina Berg)   \n",
       "13            14       3                        Andersson, Mr. Anders Johan   \n",
       "59            60       3                 Goodwin, Master. William Frederick   \n",
       "133          134       2      Weisz, Mrs. Leopold (Mathilde Francoise Pede)   \n",
       "\n",
       "        Sex   Age  SibSp  Parch   Ticket     Fare Cabin Embarked  Survived  \n",
       "89     male  24.0      0      0   343275   8.0500   NaN        S         0  \n",
       "8    female  27.0      0      2   347742  11.1333   NaN        S         1  \n",
       "13     male  39.0      1      5   347082  31.2750   NaN        S         0  \n",
       "59     male  11.0      5      2  CA 2144  46.9000   NaN        S         0  \n",
       "133  female  29.0      1      0   228414  26.0000   NaN        S         1  "
      ]
     },
     "execution_count": 5,
     "metadata": {},
     "output_type": "execute_result"
    }
   ],
   "source": [
    "analysis_df.head()"
   ]
  },
  {
   "cell_type": "markdown",
   "metadata": {},
   "source": [
    "## Missing values?"
   ]
  },
  {
   "cell_type": "code",
   "execution_count": 6,
   "metadata": {},
   "outputs": [
    {
     "name": "stdout",
     "output_type": "stream",
     "text": [
      "PassengerId has 0 values missing\n",
      "Pclass has 0 values missing\n",
      "Name has 0 values missing\n",
      "Sex has 0 values missing\n",
      "Age has 5 values missing\n",
      "SibSp has 0 values missing\n",
      "Parch has 0 values missing\n",
      "Ticket has 0 values missing\n",
      "Fare has 0 values missing\n",
      "Cabin has 35 values missing\n",
      "Embarked has 0 values missing\n",
      "Survived has 0 values missing\n"
     ]
    }
   ],
   "source": [
    "for f in analysis_df:\n",
    "    missing = \"{} has {} values missing\".format(f, analysis_df[f].isna().sum())\n",
    "    print(missing)"
   ]
  },
  {
   "cell_type": "markdown",
   "metadata": {},
   "source": [
    "### Age"
   ]
  },
  {
   "cell_type": "code",
   "execution_count": 7,
   "metadata": {},
   "outputs": [
    {
     "name": "stderr",
     "output_type": "stream",
     "text": [
      "/usr/local/lib/python3.7/site-packages/numpy/lib/histograms.py:824: RuntimeWarning: invalid value encountered in greater_equal\n",
      "  keep = (tmp_a >= first_edge)\n",
      "/usr/local/lib/python3.7/site-packages/numpy/lib/histograms.py:825: RuntimeWarning: invalid value encountered in less_equal\n",
      "  keep &= (tmp_a <= last_edge)\n"
     ]
    },
    {
     "data": {
      "text/plain": [
       "(array([3., 3., 9., 7., 8., 3., 3., 3., 0., 2.]),\n",
       " array([ 4.  , 10.65, 17.3 , 23.95, 30.6 , 37.25, 43.9 , 50.55, 57.2 ,\n",
       "        63.85, 70.5 ]),\n",
       " <a list of 10 Patch objects>)"
      ]
     },
     "execution_count": 7,
     "metadata": {},
     "output_type": "execute_result"
    },
    {
     "data": {
      "image/png": "[encoded data removed]",
      "text/plain": [
       "<Figure size 432x288 with 1 Axes>"
      ]
     },
     "metadata": {
      "needs_background": "light"
     },
     "output_type": "display_data"
    }
   ],
   "source": [
    "plt.hist(analysis_df['Age'])"
   ]
  },
  {
   "cell_type": "code",
   "execution_count": 8,
   "metadata": {},
   "outputs": [],
   "source": [
    "age_median = analysis_df['Age'].median()"
   ]
  },
  {
   "cell_type": "code",
   "execution_count": 9,
   "metadata": {},
   "outputs": [
    {
     "name": "stderr",
     "output_type": "stream",
     "text": [
      "/usr/local/lib/python3.7/site-packages/ipykernel_launcher.py:1: SettingWithCopyWarning: \n",
      "A value is trying to be set on a copy of a slice from a DataFrame.\n",
      "Try using .loc[row_indexer,col_indexer] = value instead\n",
      "\n",
      "See the caveats in the documentation: http://pandas.pydata.org/pandas-docs/stable/indexing.html#indexing-view-versus-copy\n",
      "  \"\"\"Entry point for launching an IPython kernel.\n"
     ]
    }
   ],
   "source": [
    "analysis_df['Age'] = analysis_df['Age'].fillna(analysis_df['Age'].median())"
   ]
  },
  {
   "cell_type": "code",
   "execution_count": 10,
   "metadata": {},
   "outputs": [
    {
     "data": {
      "text/plain": [
       "(array([ 3.,  3.,  9., 12.,  8.,  3.,  3.,  3.,  0.,  2.]),\n",
       " array([ 4.  , 10.65, 17.3 , 23.95, 30.6 , 37.25, 43.9 , 50.55, 57.2 ,\n",
       "        63.85, 70.5 ]),\n",
       " <a list of 10 Patch objects>)"
      ]
     },
     "execution_count": 10,
     "metadata": {},
     "output_type": "execute_result"
    },
    {
     "data": {
      "image/png": "[encoded data removed]",
      "text/plain": [
       "<Figure size 432x288 with 1 Axes>"
      ]
     },
     "metadata": {
      "needs_background": "light"
     },
     "output_type": "display_data"
    }
   ],
   "source": [
    "plt.hist(analysis_df['Age'])"
   ]
  },
  {
   "cell_type": "markdown",
   "metadata": {},
   "source": [
    "## Categorical to numerical"
   ]
  },
  {
   "cell_type": "code",
   "execution_count": 11,
   "metadata": {},
   "outputs": [],
   "source": [
    "mapping = {'Sex':{'male': 0, 'female': 1}}\n",
    "with open('../Config/cat_to_num.json', 'w') as fp:\n",
    "    json.dump(mapping, fp)\n",
    "\n",
    "analysis_df=analysis_df.replace({'Sex': mapping['Sex']})"
   ]
  },
  {
   "cell_type": "markdown",
   "metadata": {},
   "source": [
    "## Survival Rate"
   ]
  },
  {
   "cell_type": "markdown",
   "metadata": {},
   "source": [
    "AGE"
   ]
  },
  {
   "cell_type": "code",
   "execution_count": 12,
   "metadata": {},
   "outputs": [],
   "source": [
    "def compute_survival_rate(data, feature, output_flag):\n",
    "    if '{}_SR'.format(feature) in data.columns:\n",
    "        data = data.drop(['{}_SR'.format(feature)], axis=1)\n",
    "\n",
    "    # Get the mean of default (i.e Survival rate) for each distinct value\n",
    "    grouping = data[[feature, output_flag]].groupby([feature], as_index=False)[output_flag].mean()\n",
    "    grouping.columns = [feature, '{}_SR'.format(feature)]\n",
    "\n",
    "    # Merge it to the main self._dataframe\n",
    "    data = pd.merge(data, grouping, how='left', on=feature)\n",
    "\n",
    "    return data"
   ]
  },
  {
   "cell_type": "code",
   "execution_count": 13,
   "metadata": {},
   "outputs": [],
   "source": [
    "analysis_df = compute_survival_rate(analysis_df,'Age','Survived')\n",
    "analysis_df = analysis_df.sort_values(by=['Age'])"
   ]
  },
  {
   "cell_type": "code",
   "execution_count": 14,
   "metadata": {},
   "outputs": [
    {
     "data": {
      "text/plain": [
       "(array([ 3.,  3.,  9., 12.,  8.,  3.,  3.,  3.,  0.,  2.]),\n",
       " array([ 4.  , 10.65, 17.3 , 23.95, 30.6 , 37.25, 43.9 , 50.55, 57.2 ,\n",
       "        63.85, 70.5 ]),\n",
       " <a list of 10 Patch objects>)"
      ]
     },
     "execution_count": 14,
     "metadata": {},
     "output_type": "execute_result"
    },
    {
     "data": {
      "image/png": "[encoded data removed]",
      "text/plain": [
       "<Figure size 432x288 with 1 Axes>"
      ]
     },
     "metadata": {
      "needs_background": "light"
     },
     "output_type": "display_data"
    }
   ],
   "source": [
    "plt.hist(analysis_df['Age'])"
   ]
  },
  {
   "cell_type": "code",
   "execution_count": 15,
   "metadata": {},
   "outputs": [
    {
     "data": {
      "text/plain": [
       "[<matplotlib.lines.Line2D at 0x11b4d15c0>]"
      ]
     },
     "execution_count": 15,
     "metadata": {},
     "output_type": "execute_result"
    },
    {
     "data": {
      "image/png": "[encoded data removed]",
      "text/plain": [
       "<Figure size 432x288 with 1 Axes>"
      ]
     },
     "metadata": {
      "needs_background": "light"
     },
     "output_type": "display_data"
    }
   ],
   "source": [
    "plt.plot(analysis_df['Age'],analysis_df['Age_SR'])"
   ]
  },
  {
   "cell_type": "code",
   "execution_count": 16,
   "metadata": {},
   "outputs": [],
   "source": [
    "analysis_df['Age_disc'], age_bins = pd.qcut(analysis_df['Age'],q=4,labels=False, retbins=True)"
   ]
  },
  {
   "cell_type": "code",
   "execution_count": 17,
   "metadata": {},
   "outputs": [],
   "source": [
    "analysis_df = compute_survival_rate(analysis_df,'Age_disc','Survived')\n",
    "analysis_df = analysis_df.sort_values(by=['Age_disc'])"
   ]
  },
  {
   "cell_type": "code",
   "execution_count": 18,
   "metadata": {},
   "outputs": [
    {
     "data": {
      "text/plain": [
       "[<matplotlib.lines.Line2D at 0x11b5337f0>]"
      ]
     },
     "execution_count": 18,
     "metadata": {},
     "output_type": "execute_result"
    },
    {
     "data": {
      "image/png": "[encoded data removed]",
      "text/plain": [
       "<Figure size 432x288 with 1 Axes>"
      ]
     },
     "metadata": {
      "needs_background": "light"
     },
     "output_type": "display_data"
    }
   ],
   "source": [
    "plt.plot(analysis_df['Age_disc'],analysis_df['Age_disc_SR'])"
   ]
  },
  {
   "cell_type": "code",
   "execution_count": 19,
   "metadata": {},
   "outputs": [
    {
     "data": {
      "text/plain": [
       "array([ 4. , 21. , 28.5, 36.5, 70.5])"
      ]
     },
     "execution_count": 19,
     "metadata": {},
     "output_type": "execute_result"
    }
   ],
   "source": [
    "age_bins"
   ]
  },
  {
   "cell_type": "markdown",
   "metadata": {},
   "source": [
    "SEX"
   ]
  },
  {
   "cell_type": "code",
   "execution_count": 20,
   "metadata": {},
   "outputs": [],
   "source": [
    "analysis_df = compute_survival_rate(analysis_df,'Sex','Survived')\n",
    "analysis_df = analysis_df.sort_values(by=['Sex'])"
   ]
  },
  {
   "cell_type": "code",
   "execution_count": 21,
   "metadata": {},
   "outputs": [
    {
     "data": {
      "text/plain": [
       "(array([32.,  0.,  0.,  0.,  0.,  0.,  0.,  0.,  0., 14.]),\n",
       " array([0. , 0.1, 0.2, 0.3, 0.4, 0.5, 0.6, 0.7, 0.8, 0.9, 1. ]),\n",
       " <a list of 10 Patch objects>)"
      ]
     },
     "execution_count": 21,
     "metadata": {},
     "output_type": "execute_result"
    },
    {
     "data": {
      "image/png": "[encoded data removed]",
      "text/plain": [
       "<Figure size 432x288 with 1 Axes>"
      ]
     },
     "metadata": {
      "needs_background": "light"
     },
     "output_type": "display_data"
    }
   ],
   "source": [
    "plt.hist(analysis_df['Sex'])"
   ]
  },
  {
   "cell_type": "code",
   "execution_count": 22,
   "metadata": {},
   "outputs": [
    {
     "data": {
      "text/plain": [
       "[<matplotlib.lines.Line2D at 0x11b775518>]"
      ]
     },
     "execution_count": 22,
     "metadata": {},
     "output_type": "execute_result"
    },
    {
     "data": {
      "image/png": "[encoded data removed]",
      "text/plain": [
       "<Figure size 432x288 with 1 Axes>"
      ]
     },
     "metadata": {
      "needs_background": "light"
     },
     "output_type": "display_data"
    }
   ],
   "source": [
    "plt.plot(analysis_df['Sex'],analysis_df['Sex_SR'])"
   ]
  },
  {
   "cell_type": "markdown",
   "metadata": {},
   "source": [
    "FARE"
   ]
  },
  {
   "cell_type": "code",
   "execution_count": 23,
   "metadata": {},
   "outputs": [],
   "source": [
    "analysis_df = compute_survival_rate(analysis_df,'Fare','Survived')\n",
    "analysis_df = analysis_df.sort_values(by=['Fare'])"
   ]
  },
  {
   "cell_type": "code",
   "execution_count": 24,
   "metadata": {},
   "outputs": [
    {
     "data": {
      "text/plain": [
       "(array([30.,  7.,  8.,  0.,  0.,  0.,  0.,  0.,  0.,  1.]),\n",
       " array([  6.975 ,  32.5775,  58.18  ,  83.7825, 109.385 , 134.9875,\n",
       "        160.59  , 186.1925, 211.795 , 237.3975, 263.    ]),\n",
       " <a list of 10 Patch objects>)"
      ]
     },
     "execution_count": 24,
     "metadata": {},
     "output_type": "execute_result"
    },
    {
     "data": {
      "image/png": "[encoded data removed]",
      "text/plain": [
       "<Figure size 432x288 with 1 Axes>"
      ]
     },
     "metadata": {
      "needs_background": "light"
     },
     "output_type": "display_data"
    }
   ],
   "source": [
    "plt.hist(analysis_df['Fare'])"
   ]
  },
  {
   "cell_type": "code",
   "execution_count": 25,
   "metadata": {},
   "outputs": [],
   "source": [
    "analysis_df['Fare'] = winsorize(analysis_df['Fare'],limits=0.025)"
   ]
  },
  {
   "cell_type": "code",
   "execution_count": 26,
   "metadata": {},
   "outputs": [
    {
     "data": {
      "text/plain": [
       "(array([20.,  2.,  7.,  1.,  1.,  2.,  3.,  4.,  0.,  6.]),\n",
       " array([ 7.2292 , 14.23503, 21.24086, 28.24669, 35.25252, 42.25835,\n",
       "        49.26418, 56.27001, 63.27584, 70.28167, 77.2875 ]),\n",
       " <a list of 10 Patch objects>)"
      ]
     },
     "execution_count": 26,
     "metadata": {},
     "output_type": "execute_result"
    },
    {
     "data": {
      "image/png": "[encoded data removed]",
      "text/plain": [
       "<Figure size 432x288 with 1 Axes>"
      ]
     },
     "metadata": {
      "needs_background": "light"
     },
     "output_type": "display_data"
    }
   ],
   "source": [
    "plt.hist(analysis_df['Fare'])"
   ]
  },
  {
   "cell_type": "code",
   "execution_count": 27,
   "metadata": {},
   "outputs": [],
   "source": [
    "analysis_df = compute_survival_rate(analysis_df,'Fare','Survived')\n",
    "analysis_df = analysis_df.sort_values(by=['Fare'])"
   ]
  },
  {
   "cell_type": "code",
   "execution_count": 28,
   "metadata": {},
   "outputs": [
    {
     "data": {
      "text/plain": [
       "[<matplotlib.lines.Line2D at 0x11ba0a908>]"
      ]
     },
     "execution_count": 28,
     "metadata": {},
     "output_type": "execute_result"
    },
    {
     "data": {
      "image/png": "[encoded data removed]",
      "text/plain": [
       "<Figure size 432x288 with 1 Axes>"
      ]
     },
     "metadata": {
      "needs_background": "light"
     },
     "output_type": "display_data"
    }
   ],
   "source": [
    "plt.plot(analysis_df['Fare'],analysis_df['Fare_SR'])"
   ]
  },
  {
   "cell_type": "code",
   "execution_count": 29,
   "metadata": {},
   "outputs": [
    {
     "data": {
      "text/plain": [
       "[<matplotlib.lines.Line2D at 0x11ba709e8>]"
      ]
     },
     "execution_count": 29,
     "metadata": {},
     "output_type": "execute_result"
    },
    {
     "data": {
      "image/png": "[encoded data removed]",
      "text/plain": [
       "<Figure size 432x288 with 1 Axes>"
      ]
     },
     "metadata": {
      "needs_background": "light"
     },
     "output_type": "display_data"
    }
   ],
   "source": [
    "analysis_df['Fare_disc'], fare_bins = pd.qcut(analysis_df['Fare'],q=3,labels=False, retbins=True)\n",
    "analysis_df = compute_survival_rate(analysis_df,'Fare_disc','Survived')\n",
    "analysis_df = analysis_df.sort_values(by=['Fare_disc'])\n",
    "plt.plot(analysis_df['Fare_disc'],analysis_df['Fare_disc_SR'])"
   ]
  },
  {
   "cell_type": "code",
   "execution_count": 30,
   "metadata": {},
   "outputs": [
    {
     "data": {
      "text/plain": [
       "array([ 7.2292,  8.6542, 39.6875, 77.2875])"
      ]
     },
     "execution_count": 30,
     "metadata": {},
     "output_type": "execute_result"
    }
   ],
   "source": [
    "fare_bins"
   ]
  },
  {
   "cell_type": "markdown",
   "metadata": {},
   "source": [
    "### Conclusion"
   ]
  },
  {
   "cell_type": "markdown",
   "metadata": {},
   "source": [
    "- Age: replace missing values + discretization\n",
    "- Sex: apply mapping\n",
    "- Fare: winsorize + discretize"
   ]
  },
  {
   "cell_type": "code",
   "execution_count": 31,
   "metadata": {},
   "outputs": [],
   "source": [
    "pipeline_instructions ={\n",
    "    \"Age\" : {\n",
    "        \"replace_missings\" : {\"apply\":True, \"value\": age_median},\n",
    "        \"winsorize\" : {\"apply\": False, \"value\": None},\n",
    "        \"discretize\" : {\"apply\": False, \"value\": list(age_bins)}\n",
    "    },\n",
    "    \"Sex\" : {\n",
    "        \"replace_missings\" : {\"apply\":False, \"value\": None},\n",
    "        \"winsorize\" : {\"apply\": False, \"value\": None},\n",
    "        \"discretize\" : {\"apply\": False, \"value\": None}},\n",
    "    \"Fare\" : {\n",
    "        \"replace_missings\" : {\"apply\":False, \"value\": None},\n",
    "        \"winsorize\" : {\"apply\": True, \"value\": 0.025},\n",
    "        \"discretize\" : {\"apply\": True, \"value\": list(fare_bins)}}\n",
    "}"
   ]
  },
  {
   "cell_type": "code",
   "execution_count": 32,
   "metadata": {},
   "outputs": [
    {
     "data": {
      "text/plain": [
       "{'Age': {'replace_missings': {'apply': True, 'value': 28.5},\n",
       "  'winsorize': {'apply': False, 'value': None},\n",
       "  'discretize': {'apply': False, 'value': [4.0, 21.0, 28.5, 36.5, 70.5]}},\n",
       " 'Sex': {'replace_missings': {'apply': False, 'value': None},\n",
       "  'winsorize': {'apply': False, 'value': None},\n",
       "  'discretize': {'apply': False, 'value': None}},\n",
       " 'Fare': {'replace_missings': {'apply': False, 'value': None},\n",
       "  'winsorize': {'apply': True, 'value': 0.025},\n",
       "  'discretize': {'apply': True, 'value': [7.2292, 8.6542, 39.6875, 77.2875]}}}"
      ]
     },
     "execution_count": 32,
     "metadata": {},
     "output_type": "execute_result"
    }
   ],
   "source": [
    "pipeline_instructions"
   ]
  },
  {
   "cell_type": "code",
   "execution_count": 33,
   "metadata": {},
   "outputs": [],
   "source": [
    "with open('../Config/pipeline_instructions.json', 'w') as fp:\n",
    "    json.dump(pipeline_instructions, fp)"
   ]
  },
  {
   "cell_type": "code",
   "execution_count": 36,
   "metadata": {},
   "outputs": [
    {
     "data": {
      "text/plain": [
       "list"
      ]
     },
     "execution_count": 36,
     "metadata": {},
     "output_type": "execute_result"
    }
   ],
   "source": [
    "type(pipeline_instructions['Fare']['discretize']['value'])"
   ]
  },
  {
   "cell_type": "code",
   "execution_count": 37,
   "metadata": {},
   "outputs": [
    {
     "data": {
      "text/plain": [
       "0        (7.229, 8.654]\n",
       "1      (39.688, 77.288]\n",
       "2        (7.229, 8.654]\n",
       "3      (39.688, 77.288]\n",
       "4        (7.229, 8.654]\n",
       "5        (7.229, 8.654]\n",
       "6      (39.688, 77.288]\n",
       "7       (8.654, 39.688]\n",
       "8       (8.654, 39.688]\n",
       "9       (8.654, 39.688]\n",
       "10      (8.654, 39.688]\n",
       "11      (8.654, 39.688]\n",
       "12       (7.229, 8.654]\n",
       "13      (8.654, 39.688]\n",
       "14       (7.229, 8.654]\n",
       "15      (8.654, 39.688]\n",
       "16      (8.654, 39.688]\n",
       "17      (8.654, 39.688]\n",
       "18      (8.654, 39.688]\n",
       "19                  NaN\n",
       "20      (8.654, 39.688]\n",
       "21      (8.654, 39.688]\n",
       "22       (7.229, 8.654]\n",
       "23      (8.654, 39.688]\n",
       "24      (8.654, 39.688]\n",
       "25      (8.654, 39.688]\n",
       "26                  NaN\n",
       "27                  NaN\n",
       "28       (7.229, 8.654]\n",
       "29       (7.229, 8.654]\n",
       "             ...       \n",
       "126      (7.229, 8.654]\n",
       "127                 NaN\n",
       "128     (8.654, 39.688]\n",
       "129                 NaN\n",
       "130      (7.229, 8.654]\n",
       "131                 NaN\n",
       "132     (8.654, 39.688]\n",
       "133     (8.654, 39.688]\n",
       "134     (8.654, 39.688]\n",
       "135     (8.654, 39.688]\n",
       "136     (8.654, 39.688]\n",
       "137    (39.688, 77.288]\n",
       "138     (8.654, 39.688]\n",
       "139                 NaN\n",
       "140     (8.654, 39.688]\n",
       "141      (7.229, 8.654]\n",
       "142     (8.654, 39.688]\n",
       "143                 NaN\n",
       "144     (8.654, 39.688]\n",
       "145     (8.654, 39.688]\n",
       "146      (7.229, 8.654]\n",
       "147     (8.654, 39.688]\n",
       "148     (8.654, 39.688]\n",
       "149     (8.654, 39.688]\n",
       "150     (8.654, 39.688]\n",
       "151    (39.688, 77.288]\n",
       "152      (7.229, 8.654]\n",
       "153     (8.654, 39.688]\n",
       "154      (7.229, 8.654]\n",
       "155    (39.688, 77.288]\n",
       "Name: Fare, Length: 156, dtype: category\n",
       "Categories (3, interval[float64]): [(7.229, 8.654] < (8.654, 39.688] < (39.688, 77.288]]"
      ]
     },
     "execution_count": 37,
     "metadata": {},
     "output_type": "execute_result"
    }
   ],
   "source": [
    "pd.cut(df['Fare'],pipeline_instructions['Fare']['discretize']['value'])"
   ]
  },
  {
   "cell_type": "code",
   "execution_count": null,
   "metadata": {},
   "outputs": [],
   "source": []
  }
 ],
 "metadata": {
  "kernelspec": {
   "display_name": "Python 3",
   "language": "python",
   "name": "python3"
  },
  "language_info": {
   "codemirror_mode": {
    "name": "ipython",
    "version": 3
   },
   "file_extension": ".py",
   "mimetype": "text/x-python",
   "name": "python",
   "nbconvert_exporter": "python",
   "pygments_lexer": "ipython3",
   "version": "3.7.3"
  }
 },
 "nbformat": 4,
 "nbformat_minor": 2
}
